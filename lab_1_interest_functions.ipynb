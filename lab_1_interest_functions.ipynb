{
  "nbformat": 4,
  "nbformat_minor": 0,
  "metadata": {
    "kernelspec": {
      "display_name": "Python 3",
      "language": "python",
      "name": "python3"
    },
    "language_info": {
      "codemirror_mode": {
        "name": "ipython",
        "version": 3
      },
      "file_extension": ".py",
      "mimetype": "text/x-python",
      "name": "python",
      "nbconvert_exporter": "python",
      "pygments_lexer": "ipython3",
      "version": "3.7.2"
    },
    "colab": {
      "name": "lab_1_interest_functions.ipynb",
      "provenance": [],
      "include_colab_link": true
    }
  },
  "cells": [
    {
      "cell_type": "markdown",
      "metadata": {
        "id": "view-in-github",
        "colab_type": "text"
      },
      "source": [
        "<a href=\"https://colab.research.google.com/github/davidlars18/lab1_interest_functions/blob/master/lab_1_interest_functions.ipynb\" target=\"_parent\"><img src=\"https://colab.research.google.com/assets/colab-badge.svg\" alt=\"Open In Colab\"/></a>"
      ]
    },
    {
      "cell_type": "markdown",
      "metadata": {
        "id": "RhlUG0NgucEy",
        "colab_type": "text"
      },
      "source": [
        "## Lab 1 - Compound Interest Functions\n",
        "\n",
        "Below you will find a table of important formulae related to compound interest.  \n",
        "\n",
        "<img src=\"https://www.dummies.com/wp-content/uploads/251689.image0.jpg\" alt=\"image0.jpg\" width=\"400\" height=\"319\">\n",
        "\n",
        "In this lab, you will create functions for each of these using (and documenting) the following workflow.\n",
        "\n",
        "1. Work out the correct answer for a few examples. *Hint* Search for e.g. \"worked out compound interest examples\" on the web.\n",
        "2. Write a `lambda` function and test this function on your test cases.\n",
        "3. Convert the `lambda` function to a `def` statement with an informative doc string that follows the [Google formating rules](https://google.github.io/styleguide/pyguide.html#383-functions-and-methods).\n",
        "4. Write an automated test function (using your previous examples) that will test your `def` statement function each time the code is executed."
      ]
    },
    {
      "cell_type": "markdown",
      "metadata": {
        "id": "EfgDUBJ4ucE3",
        "colab_type": "text"
      },
      "source": [
        "#### Problem 1 -- Apply the process to create a simple interest functions."
      ]
    },
    {
      "cell_type": "code",
      "metadata": {
        "id": "UDjoNGNfwV0p",
        "colab_type": "code",
        "colab": {
          "base_uri": "https://localhost:8080/",
          "height": 34
        },
        "outputId": "500dd8aa-3c5e-4259-c43a-13958e748064"
      },
      "source": [
        "principle = 1000\n",
        "interest_rate = .05\n",
        "years = 10\n",
        "principle*interest_rate*years"
      ],
      "execution_count": 9,
      "outputs": [
        {
          "output_type": "execute_result",
          "data": {
            "text/plain": [
              "500.0"
            ]
          },
          "metadata": {
            "tags": []
          },
          "execution_count": 9
        }
      ]
    },
    {
      "cell_type": "code",
      "metadata": {
        "id": "wQvfxmfOxWfF",
        "colab_type": "code",
        "colab": {
          "base_uri": "https://localhost:8080/",
          "height": 34
        },
        "outputId": "ba6391fe-3d48-4ccf-9a7a-158e6d983a1d"
      },
      "source": [
        "principle = 10000\n",
        "interest_rate = 0.025\n",
        "years = 20\n",
        "principle*interest_rate*years"
      ],
      "execution_count": 11,
      "outputs": [
        {
          "output_type": "execute_result",
          "data": {
            "text/plain": [
              "5000.0"
            ]
          },
          "metadata": {
            "tags": []
          },
          "execution_count": 11
        }
      ]
    },
    {
      "cell_type": "code",
      "metadata": {
        "id": "gJH94_NQucE6",
        "colab_type": "code",
        "colab": {
          "base_uri": "https://localhost:8080/",
          "height": 34
        },
        "outputId": "f9eaf8e6-6aad-428d-8058-dcbc78edeb06"
      },
      "source": [
        "simple = lambda principle, interest_rate, years : principle*interest_rate*years\n",
        "simple(1000, 0.05, 10)"
      ],
      "execution_count": 12,
      "outputs": [
        {
          "output_type": "execute_result",
          "data": {
            "text/plain": [
              "500.0"
            ]
          },
          "metadata": {
            "tags": []
          },
          "execution_count": 12
        }
      ]
    },
    {
      "cell_type": "code",
      "metadata": {
        "id": "5DgW9etOwFQy",
        "colab_type": "code",
        "colab": {}
      },
      "source": [
        "def simple_int(principle, interest_rate, years):\n",
        "  \"\"\"computes simple interest given an interest rate, principle money, and time in years\n",
        "  Args:\n",
        "  principle: principle amount\n",
        "  interest_rate: interest rate \n",
        "  years: time \n",
        "\n",
        "  returns: interest earned after so many years given the initial amount and interest rate\n",
        "  \"\"\"\n",
        "  output = principle * interest_rate * years\n",
        "  return output\n",
        "\n",
        "def test_simple_int():\n",
        "  assert simple_int(1000, 0.05, 10) == 500.0\n",
        "  assert simple_int(10000, .025 , 20) == 5000.0\n",
        "\n",
        "test_simple_int()"
      ],
      "execution_count": 13,
      "outputs": []
    },
    {
      "cell_type": "markdown",
      "metadata": {
        "id": "dgnMX_UnucFL",
        "colab_type": "text"
      },
      "source": [
        "#### Problem 2 -- Apply the process to create a compound interest functions."
      ]
    },
    {
      "cell_type": "code",
      "metadata": {
        "id": "UPoX0jmiucFN",
        "colab_type": "code",
        "colab": {
          "base_uri": "https://localhost:8080/",
          "height": 34
        },
        "outputId": "3a62d07b-f568-405b-d42d-9fc1de1b464b"
      },
      "source": [
        "principle = 20000\n",
        "interest_rate = .06\n",
        "compounding = 1\n",
        "years = 3\n",
        "principle*((1+(interest_rate/compounding))**(years*compounding)) - principle"
      ],
      "execution_count": 20,
      "outputs": [
        {
          "output_type": "execute_result",
          "data": {
            "text/plain": [
              "3820.3199999999997"
            ]
          },
          "metadata": {
            "tags": []
          },
          "execution_count": 20
        }
      ]
    },
    {
      "cell_type": "code",
      "metadata": {
        "id": "4v4IDl1JyiJC",
        "colab_type": "code",
        "colab": {
          "base_uri": "https://localhost:8080/",
          "height": 34
        },
        "outputId": "a753c588-e7a7-42ff-a890-1c5ec9c532cf"
      },
      "source": [
        "compound = lambda principle, interest_rate, compounding, years : principle*((1+(interest_rate/compounding))**(years*compounding)) - principle\n",
        "compound(20000, .06, 1, 3)"
      ],
      "execution_count": 18,
      "outputs": [
        {
          "output_type": "execute_result",
          "data": {
            "text/plain": [
              "3820.3199999999997"
            ]
          },
          "metadata": {
            "tags": []
          },
          "execution_count": 18
        }
      ]
    },
    {
      "cell_type": "code",
      "metadata": {
        "id": "cHKSKEZ4yx66",
        "colab_type": "code",
        "colab": {}
      },
      "source": [
        "def compound_int(principle, interest_rate, compounding, years) :\n",
        "  \"\"\"computes compound interest after so many years given the principle, interest rate, and compounding rate\n",
        "  Args:\n",
        "  principle: initial amount\n",
        "  interest_rate: interest rate\n",
        "  compounding: how often the compounding occurs per year\n",
        "  years: number of years\n",
        "\n",
        "  returns: amount of compounded interest earned over some number of years given the intitial amount and interest rate and how often interest is generated\n",
        "  \"\"\"\n",
        "  output = principle*((1+(interest_rate/compounding))**(years*compounding)) - principle\n",
        "  return output\n",
        "\n",
        "def test_compound_int():\n",
        "  assert round(compound_int(20000, 0.06, 1, 3),2) == 3820.32\n",
        "  assert round(compound_int(5000, 0.03, 12, 6),2) == 984.74\n",
        "\n",
        "test_compound_int()"
      ],
      "execution_count": 30,
      "outputs": []
    },
    {
      "cell_type": "markdown",
      "metadata": {
        "id": "-FYMu4sBucFU",
        "colab_type": "text"
      },
      "source": [
        "#### Problem 3 -- Apply the process to create a amortized loan payment function."
      ]
    },
    {
      "cell_type": "code",
      "metadata": {
        "id": "PtXRd7ZmucFX",
        "colab_type": "code",
        "colab": {
          "base_uri": "https://localhost:8080/",
          "height": 34
        },
        "outputId": "be343a1d-227d-4014-fc7d-6054f5bc53bf"
      },
      "source": [
        "borrowed = 25000\n",
        "interest_rate = 0.06\n",
        "num_payments = 4\n",
        "\n",
        "round((borrowed * interest_rate) / (1 - (1 + interest_rate)**(-(num_payments))),2)"
      ],
      "execution_count": 37,
      "outputs": [
        {
          "output_type": "execute_result",
          "data": {
            "text/plain": [
              "7214.78730933183"
            ]
          },
          "metadata": {
            "tags": []
          },
          "execution_count": 37
        }
      ]
    },
    {
      "cell_type": "code",
      "metadata": {
        "id": "3sPiwb3y2yWM",
        "colab_type": "code",
        "colab": {
          "base_uri": "https://localhost:8080/",
          "height": 34
        },
        "outputId": "38776d10-4598-41d2-e90b-05ca3f470c50"
      },
      "source": [
        "amortized = lambda borrowed, interest_rate, num_payments : round((borrowed * interest_rate) / (1 - (1 + interest_rate)**(-(num_payments))),2)\n",
        "amortized(25000, 0.06,4)"
      ],
      "execution_count": 40,
      "outputs": [
        {
          "output_type": "execute_result",
          "data": {
            "text/plain": [
              "7214.79"
            ]
          },
          "metadata": {
            "tags": []
          },
          "execution_count": 40
        }
      ]
    },
    {
      "cell_type": "code",
      "metadata": {
        "id": "uqdxklPu3CEO",
        "colab_type": "code",
        "colab": {}
      },
      "source": [
        "def amortized_loan(borrowed, interest_rate, num_payments):\n",
        "  \"\"\"computes the periodical payment given intitial loan amount, interest rate, and number of payments\n",
        "  Args:\n",
        "  borrowed: amount of money borrowed in the loan\n",
        "  interest_rate: interest_rate\n",
        "  num_payments: number of payments to be made on the loan\n",
        "  \n",
        "  returns: how much each payment should be to pay the loan off in the number of payments given\n",
        "  \"\"\"\n",
        "  output = round((borrowed * interest_rate) / (1 - (1 + interest_rate)**(-(num_payments))),2)\n",
        "  return output\n",
        "\n",
        "def test_amortized_loan():\n",
        "  assert amortized_loan(25000, 0.06, 4) == 7214.79\n",
        "\n",
        "test_amortized_loan()"
      ],
      "execution_count": 41,
      "outputs": []
    },
    {
      "cell_type": "markdown",
      "metadata": {
        "id": "bIUBJCtaucFk",
        "colab_type": "text"
      },
      "source": [
        "#### Problem 4 -- Apply the process to create a remaining balance function"
      ]
    },
    {
      "cell_type": "code",
      "metadata": {
        "id": "LMs5L_O9ucFm",
        "colab_type": "code",
        "colab": {
          "base_uri": "https://localhost:8080/",
          "height": 34
        },
        "outputId": "64be06e6-cf94-4e47-e7ff-cb9e2f02cf74"
      },
      "source": [
        "remaining_balance = lambda regular_payment, interest_rate, num_payments, num_prev_payments : round(regular_payment*((1 - (1 + interest_rate)**(-(num_payments - num_prev_payments)))/interest_rate),2)\n",
        "remaining_balance(1500, .01, 25, 10)"
      ],
      "execution_count": 63,
      "outputs": [
        {
          "output_type": "execute_result",
          "data": {
            "text/plain": [
              "20797.58"
            ]
          },
          "metadata": {
            "tags": []
          },
          "execution_count": 63
        }
      ]
    },
    {
      "cell_type": "code",
      "metadata": {
        "id": "1U_9OAKb8Rrv",
        "colab_type": "code",
        "colab": {}
      },
      "source": [
        "def remaining_bal(regular_payment, interest_rate, num_payments, num_prev_payments):\n",
        "  \"\"\" computes the remaining balance when paying a loan given the regular payment, interest rate, number of total payments, and payments already made.\n",
        "  Args:\n",
        "  regular_payment: how much the regular payment is\n",
        "  interest_rate: interest rate of the loan\n",
        "  num_payments: number of total payments to be made on the loan\n",
        "  num_prev_payments: number of payments that have already been made on the loan\n",
        "\n",
        "  returns: how much money is left to be paid on the loan\"\"\"\n",
        "  output = round(regular_payment*((1 - (1 + interest_rate)**(-(num_payments - num_prev_payments)))/interest_rate),2)\n",
        "  return output\n",
        "\n",
        "def test_remaining_bal():\n",
        "  assert remaining_bal(10000, 0.005, 6, 5) == 9950.25\n",
        "  assert remaining_bal(1500, 0.01, 25, 10) == 20797.58\n",
        "\n",
        "test_remaining_bal()\n"
      ],
      "execution_count": 65,
      "outputs": []
    }
  ]
}